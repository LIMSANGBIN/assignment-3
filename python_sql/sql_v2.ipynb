{
 "cells": [
  {
   "cell_type": "markdown",
   "id": "f7829466",
   "metadata": {},
   "source": [
    "## Preparation\n",
    "\n",
    "Import the modules and removed previous database (if any)"
   ]
  },
  {
   "cell_type": "code",
   "execution_count": 1,
   "id": "64675d0b",
   "metadata": {},
   "outputs": [],
   "source": [
    "import sqlite3\n",
    "import pandas as pd\n",
    "import os"
   ]
  },
  {
   "cell_type": "code",
   "execution_count": 2,
   "id": "88b2193f",
   "metadata": {},
   "outputs": [],
   "source": [
    "# IMPORTANT NOTE\n",
    "# Note that your path to the database may be different\n",
    "try:\n",
    "    os.remove('../dataverse_files/airline2_python.db')\n",
    "except OSError:\n",
    "    pass"
   ]
  },
  {
   "cell_type": "markdown",
   "id": "bd9c1c03",
   "metadata": {},
   "source": [
    "\n",
    "## Create database "
   ]
  },
  {
   "cell_type": "code",
   "execution_count": 3,
   "id": "182973bd",
   "metadata": {},
   "outputs": [
    {
     "ename": "OperationalError",
     "evalue": "unable to open database file",
     "output_type": "error",
     "traceback": [
      "\u001b[0;31m---------------------------------------------------------------------------\u001b[0m",
      "\u001b[0;31mOperationalError\u001b[0m                          Traceback (most recent call last)",
      "\u001b[0;32m<ipython-input-3-7f04b88dc75c>\u001b[0m in \u001b[0;36m<module>\u001b[0;34m\u001b[0m\n\u001b[1;32m      1\u001b[0m \u001b[0;31m# Note that your path to the database may be different\u001b[0m\u001b[0;34m\u001b[0m\u001b[0;34m\u001b[0m\u001b[0;34m\u001b[0m\u001b[0m\n\u001b[0;32m----> 2\u001b[0;31m \u001b[0mconn\u001b[0m \u001b[0;34m=\u001b[0m \u001b[0msqlite3\u001b[0m\u001b[0;34m.\u001b[0m\u001b[0mconnect\u001b[0m\u001b[0;34m(\u001b[0m\u001b[0;34m'../dataverse_files/airline2_python.db'\u001b[0m\u001b[0;34m)\u001b[0m\u001b[0;34m\u001b[0m\u001b[0;34m\u001b[0m\u001b[0m\n\u001b[0m",
      "\u001b[0;31mOperationalError\u001b[0m: unable to open database file"
     ]
    }
   ],
   "source": [
    "# Note that your path to the database may be different \n",
    "conn = sqlite3.connect('../dataverse_files/airline2_python.db')"
   ]
  },
  {
   "cell_type": "markdown",
   "id": "e93e1381",
   "metadata": {},
   "source": [
    "## Create tables \n",
    "\n",
    "First create the tables for the airports, carrier and plane-data dataset "
   ]
  },
  {
   "cell_type": "code",
   "execution_count": 14,
   "id": "4b7ae334",
   "metadata": {},
   "outputs": [],
   "source": [
    "# Note that your path to the data may be different \n",
    "airports = pd.read_csv(\"../dataverse_files/airports.csv\")\n",
    "carriers = pd.read_csv(\"../dataverse_files/carriers.csv\")\n",
    "planes = pd.read_csv(\"../dataverse_files/plane-data.csv\")\n",
    "\n",
    "airports.to_sql('airports', con = conn, index = False)\n",
    "carriers.to_sql('carriers', con = conn, index = False)\n",
    "planes.to_sql('planes', con = conn, index = False)"
   ]
  },
  {
   "cell_type": "markdown",
   "id": "b2d5db88",
   "metadata": {},
   "source": [
    "Then create the table for ontime, which requires several csv files"
   ]
  },
  {
   "cell_type": "code",
   "execution_count": 15,
   "id": "2be2f085",
   "metadata": {},
   "outputs": [],
   "source": [
    "c = conn.cursor()"
   ]
  },
  {
   "cell_type": "code",
   "execution_count": 16,
   "id": "2a9370ba",
   "metadata": {},
   "outputs": [],
   "source": [
    "c.execute('''\n",
    "CREATE TABLE ontime (\n",
    "  Year int,\n",
    "  Month int,\n",
    "  DayofMonth int,\n",
    "  DayOfWeek int,\n",
    "  DepTime  int,\n",
    "  CRSDepTime int,\n",
    "  ArrTime int,\n",
    "  CRSArrTime int,\n",
    "  UniqueCarrier varchar(5),\n",
    "  FlightNum int,\n",
    "  TailNum varchar(8),\n",
    "  ActualElapsedTime int,\n",
    "  CRSElapsedTime int,\n",
    "  AirTime int,\n",
    "  ArrDelay int,\n",
    "  DepDelay int,\n",
    "  Origin varchar(3),\n",
    "  Dest varchar(3),\n",
    "  Distance int,\n",
    "  TaxiIn int,\n",
    "  TaxiOut int,\n",
    "  Cancelled int,\n",
    "  CancellationCode varchar(1),\n",
    "  Diverted varchar(1),\n",
    "  CarrierDelay int,\n",
    "  WeatherDelay int,\n",
    "  NASDelay int,\n",
    "  SecurityDelay int,\n",
    "  LateAircraftDelay int\n",
    ")\n",
    "''')\n",
    "\n",
    "conn.commit()"
   ]
  },
  {
   "cell_type": "code",
   "execution_count": 17,
   "id": "5f1fb0f9",
   "metadata": {},
   "outputs": [
    {
     "name": "stdout",
     "output_type": "stream",
     "text": [
      "Processing:  2000\n",
      "Processing:  2001\n",
      "Processing:  2002\n",
      "Processing:  2003\n",
      "Processing:  2004\n",
      "Processing:  2005\n"
     ]
    }
   ],
   "source": [
    "for year in range(2000, 2006):\n",
    "    print('Processing: ', year)\n",
    "    ontime = pd.read_csv(\"../dataverse_files/\"+str(year)+\".csv\")    \n",
    "    ontime.to_sql('ontime', con = conn, if_exists = 'append', index = False)\n",
    "\n",
    "conn.commit()"
   ]
  },
  {
   "cell_type": "markdown",
   "id": "aa9a1753",
   "metadata": {},
   "source": [
    "## Run queries \n",
    "\n",
    "Query 1: Find model that has the lowest associated average departure delay"
   ]
  },
  {
   "cell_type": "code",
   "execution_count": 27,
   "id": "b3f4904d",
   "metadata": {},
   "outputs": [
    {
     "name": "stdout",
     "output_type": "stream",
     "text": [
      "737-2Y5 has the lowest associated average departure delay.\n"
     ]
    }
   ],
   "source": [
    "c.execute('''\n",
    "SELECT model AS model, AVG(ontime.DepDelay) AS avg_delay\n",
    "FROM planes JOIN ontime USING(tailnum)\n",
    "WHERE ontime.Cancelled = 0 AND ontime.Diverted = 0 AND ontime.DepDelay > 0\n",
    "GROUP BY model\n",
    "ORDER BY avg_delay\n",
    "''')\n",
    "\n",
    "print(c.fetchone()[0], \"has the lowest associated average departure delay.\")\n",
    "\n",
    "#x = c.fetchall()  #alternatively you can use fetchall()\n",
    "#print(x[0][0],\"has the highest number of inbound flights (excluding canceled flights) at\", x[0][1])\n",
    "#print(x[:5])"
   ]
  },
  {
   "cell_type": "markdown",
   "id": "a5eabe1f",
   "metadata": {},
   "source": [
    "Query 2: Find the city that has the highest number of inbound flights (excluding canceled flights)"
   ]
  },
  {
   "cell_type": "code",
   "execution_count": 25,
   "id": "74be4cdd",
   "metadata": {},
   "outputs": [
    {
     "name": "stdout",
     "output_type": "stream",
     "text": [
      "Chicago has the highest number of inbound flights (excluding canceled flights)\n"
     ]
    }
   ],
   "source": [
    "c.execute('''\n",
    "SELECT airports.city AS city, COUNT(*) AS total\n",
    "FROM airports JOIN ontime ON ontime.dest = airports.iata\n",
    "WHERE ontime.Cancelled = 0\n",
    "GROUP BY airports.city\n",
    "ORDER BY total DESC\n",
    "''')\n",
    "\n",
    "print(c.fetchone()[0], \"has the highest number of inbound flights (excluding canceled flights)\")"
   ]
  },
  {
   "cell_type": "markdown",
   "id": "f8fcc399",
   "metadata": {},
   "source": [
    "Query 3: Find the carrier that has the highest number of canceled flights"
   ]
  },
  {
   "cell_type": "code",
   "execution_count": 28,
   "id": "20a13b51",
   "metadata": {},
   "outputs": [
    {
     "name": "stdout",
     "output_type": "stream",
     "text": [
      "Delta Air Lines Inc. has the highest number of canceled flights\n"
     ]
    }
   ],
   "source": [
    "c.execute('''\n",
    "SELECT carriers.Description AS carrier, COUNT(*) AS total\n",
    "FROM carriers JOIN ontime ON ontime.UniqueCarrier = carriers.Code\n",
    "WHERE ontime.Cancelled = 1\n",
    "GROUP BY carriers.Description\n",
    "ORDER BY total DESC\n",
    "''')\n",
    "\n",
    "print(c.fetchone()[0],\"has the highest number of canceled flights\")"
   ]
  },
  {
   "cell_type": "markdown",
   "id": "163d344d",
   "metadata": {},
   "source": [
    "Query 4: Find the carrier that has the highest number of canceled flights, relative to their number of total flights"
   ]
  },
  {
   "cell_type": "code",
   "execution_count": 29,
   "id": "34ae6da5",
   "metadata": {},
   "outputs": [
    {
     "name": "stdout",
     "output_type": "stream",
     "text": [
      "American Eagle Airlines Inc. has the highest number of canceled flights, relative to their number of total flights\n"
     ]
    }
   ],
   "source": [
    "c.execute('''\n",
    "SELECT\n",
    "q1.carrier AS carrier, (CAST(q1.numerator AS FLOAT)/ CAST(q2.denominator AS FLOAT)) AS ratio\n",
    "FROM\n",
    "(\n",
    "  SELECT carriers.Description AS carrier, COUNT(*) AS numerator\n",
    "  FROM carriers JOIN ontime ON ontime.UniqueCarrier = carriers.Code\n",
    "  WHERE ontime.Cancelled = 1\n",
    "  GROUP BY carriers.Description\n",
    ") AS q1 JOIN\n",
    "(\n",
    "  SELECT carriers.Description AS carrier, COUNT(*) AS denominator\n",
    "  FROM carriers JOIN ontime ON ontime.UniqueCarrier = carriers.Code\n",
    "  GROUP BY carriers.Description\n",
    ") AS q2 USING(carrier)\n",
    "ORDER BY ratio DESC\n",
    "''')\n",
    "\n",
    "print(c.fetchone()[0], \"has the highest number of canceled flights, relative to their number of total flights\")"
   ]
  },
  {
   "cell_type": "code",
   "execution_count": 30,
   "id": "ce88383d",
   "metadata": {},
   "outputs": [
    {
     "name": "stdout",
     "output_type": "stream",
     "text": [
      "American Eagle Airlines Inc. has the highest number of canceled flights, relative to their number of total flights\n"
     ]
    }
   ],
   "source": [
    "# Shortened version for Q4\n",
    "c.execute('''\n",
    "SELECT carriers.Description, AVG(Cancelled) AS ratio\n",
    "FROM carriers INNER JOIN ontime ON ontime.UniqueCarrier = carriers.Code\n",
    "GROUP BY carriers.Description\n",
    "ORDER BY ratio DESC\n",
    "''')\n",
    "\n",
    "print(c.fetchone()[0], \"has the highest number of canceled flights, relative to their number of total flights\")"
   ]
  },
  {
   "cell_type": "markdown",
   "id": "8a4d5f6a",
   "metadata": {},
   "source": [
    "Remember to close the connection"
   ]
  },
  {
   "cell_type": "code",
   "execution_count": 10,
   "id": "fd53abba",
   "metadata": {},
   "outputs": [],
   "source": [
    "conn.close()"
   ]
  },
  {
   "cell_type": "code",
   "execution_count": null,
   "id": "2d1b1154",
   "metadata": {},
   "outputs": [],
   "source": []
  }
 ],
 "metadata": {
  "kernelspec": {
   "display_name": "Python 3",
   "language": "python",
   "name": "python3"
  },
  "language_info": {
   "codemirror_mode": {
    "name": "ipython",
    "version": 3
   },
   "file_extension": ".py",
   "mimetype": "text/x-python",
   "name": "python",
   "nbconvert_exporter": "python",
   "pygments_lexer": "ipython3",
   "version": "3.8.8"
  }
 },
 "nbformat": 4,
 "nbformat_minor": 5
}
